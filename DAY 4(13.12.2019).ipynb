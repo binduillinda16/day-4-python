{
 "cells": [
  {
   "cell_type": "markdown",
   "metadata": {},
   "source": [
    "# Jupyter Markdown\n"
   ]
  },
  {
   "cell_type": "markdown",
   "metadata": {},
   "source": [
    "## Jupyter Markdown"
   ]
  },
  {
   "cell_type": "markdown",
   "metadata": {},
   "source": [
    "### Jupyter Markdown"
   ]
  },
  {
   "cell_type": "markdown",
   "metadata": {},
   "source": [
    "#### Jupyter Markdown"
   ]
  },
  {
   "cell_type": "markdown",
   "metadata": {},
   "source": [
    "- point 1\n",
    "  - **sub point 1.1**\n",
    "  - ***sub point 1.2***\n",
    "  - *sub point 1.3*\n",
    "- point 2\n",
    "- point 3\n"
   ]
  },
  {
   "cell_type": "markdown",
   "metadata": {},
   "source": [
    "### Python introduction\n",
    " - python 3\n",
    " - python can be used as functional programming\n",
    " - python can be used as scriptting programing\n",
    " - python intially designed by **Guido Van Rossum** in 1991"
   ]
  },
  {
   "cell_type": "code",
   "execution_count": 3,
   "metadata": {},
   "outputs": [
    {
     "name": "stdout",
     "output_type": "stream",
     "text": [
      "hello world\n",
      "welcome to python programming\n"
     ]
    }
   ],
   "source": [
    "# Input and Output Function\n",
    "# Output Function \n",
    "print(\"hello world\")\n",
    "print(\"welcome to python programming\")"
   ]
  },
  {
   "cell_type": "markdown",
   "metadata": {},
   "source": [
    "print(\"Markdown cell\",end = ' ')\n",
    "print(\"code cell\")"
   ]
  },
  {
   "cell_type": "code",
   "execution_count": 5,
   "metadata": {},
   "outputs": [
    {
     "name": "stdout",
     "output_type": "stream",
     "text": [
      "enter your name : \n",
      " bindu\n",
      "your name is  bindu\n"
     ]
    }
   ],
   "source": [
    "# input Function\n",
    "print(\"enter your name : \")\n",
    "a = input(' ')\n",
    "print('your name is ',a)"
   ]
  },
  {
   "cell_type": "markdown",
   "metadata": {},
   "source": [
    "### inserting an image using markdown\n",
    "![image](data:image/jpeg;base64,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)"
   ]
  },
  {
   "cell_type": "markdown",
   "metadata": {},
   "source": [
    "## inserting a site using markdown\n",
    "[site](https://www.google.com/search?q=peace+images+hd&oq=peace+imag&aqs=chrome.2.0j69i57j0l6.15777j0j7&sourceid=chrome&ie=UTF-8)"
   ]
  },
  {
   "cell_type": "markdown",
   "metadata": {},
   "source": [
    "# Fundamental data types"
   ]
  },
  {
   "cell_type": "markdown",
   "metadata": {},
   "source": [
    "## 1.int\n",
    "## 2.float\n",
    "## 3.complex\n",
    "## 4.string\n",
    "## 5.boolean\n"
   ]
  },
  {
   "cell_type": "code",
   "execution_count": 6,
   "metadata": {},
   "outputs": [
    {
     "name": "stdout",
     "output_type": "stream",
     "text": [
      "<class 'int'>\n",
      "10\n"
     ]
    }
   ],
   "source": [
    "#basic ex:\n",
    "x= 10\n",
    "print(type(x))\n",
    "print(x)\n"
   ]
  },
  {
   "cell_type": "code",
   "execution_count": 7,
   "metadata": {},
   "outputs": [
    {
     "name": "stdout",
     "output_type": "stream",
     "text": [
      "(5+4j)\n"
     ]
    }
   ],
   "source": [
    "a = complex(5,4)\n",
    "print(a)"
   ]
  },
  {
   "cell_type": "code",
   "execution_count": 8,
   "metadata": {},
   "outputs": [
    {
     "name": "stdout",
     "output_type": "stream",
     "text": [
      "<class 'complex'>\n",
      "<class 'float'>\n",
      "<class 'int'>\n"
     ]
    }
   ],
   "source": [
    "x= 3+5j\n",
    "y=10.25\n",
    "z=10\n",
    "print(type(x))\n",
    "print(type(y))\n",
    "print(type(z))"
   ]
  },
  {
   "cell_type": "code",
   "execution_count": 9,
   "metadata": {},
   "outputs": [
    {
     "name": "stdout",
     "output_type": "stream",
     "text": [
      "<class 'complex'> <class 'float'> <class 'int'>\n"
     ]
    }
   ],
   "source": [
    "x= 3+5j\n",
    "y= 10.25\n",
    "z= 10\n",
    "print(type(x),type(y),type(z))"
   ]
  },
  {
   "cell_type": "code",
   "execution_count": 10,
   "metadata": {},
   "outputs": [
    {
     "name": "stdout",
     "output_type": "stream",
     "text": [
      "(9+11j)\n",
      "(1+1j)\n",
      "(-10+49j)\n"
     ]
    }
   ],
   "source": [
    "c1= 5+6j #complex\n",
    "c2=4+5j\n",
    "print(c1+c2)\n",
    "print(c1-c2)\n",
    "print(c1*c2)"
   ]
  },
  {
   "cell_type": "code",
   "execution_count": 13,
   "metadata": {},
   "outputs": [
    {
     "data": {
      "text/plain": [
       "True"
      ]
     },
     "execution_count": 13,
     "metadata": {},
     "output_type": "execute_result"
    }
   ],
   "source": [
    "a= 10 #boolean\n",
    "b = 6\n",
    "a > b"
   ]
  },
  {
   "cell_type": "code",
   "execution_count": 14,
   "metadata": {},
   "outputs": [
    {
     "name": "stdout",
     "output_type": "stream",
     "text": [
      "<class 'str'>\n",
      "<class 'str'>\n"
     ]
    }
   ],
   "source": [
    "#strings\n",
    "s1 = \"abc\"\n",
    "s2 = \"xyz\"\n",
    "print(type(s1))\n",
    "print(type(s2))"
   ]
  },
  {
   "cell_type": "code",
   "execution_count": 15,
   "metadata": {},
   "outputs": [
    {
     "name": "stdout",
     "output_type": "stream",
     "text": [
      "<class 'str'>\n"
     ]
    }
   ],
   "source": [
    "s1 = \"100\"\n",
    "print(type(s1))"
   ]
  },
  {
   "cell_type": "markdown",
   "metadata": {},
   "source": [
    "# datatype conversions"
   ]
  },
  {
   "cell_type": "code",
   "execution_count": 17,
   "metadata": {},
   "outputs": [
    {
     "name": "stdout",
     "output_type": "stream",
     "text": [
      "<class 'int'>\n",
      "<class 'str'>\n",
      "<class 'float'>\n"
     ]
    }
   ],
   "source": [
    "i = 100\n",
    "print(type(i))\n",
    "s1 = str(i) #str() convert the string into string type\n",
    "print(type(s1))\n",
    "f1 = float(i) #float() convert the string into float type\n",
    "print(type(f1))"
   ]
  },
  {
   "cell_type": "code",
   "execution_count": 18,
   "metadata": {},
   "outputs": [
    {
     "name": "stdout",
     "output_type": "stream",
     "text": [
      "<class 'str'>\n",
      "<class 'int'>\n",
      "<class 'int'>\n",
      "2\n"
     ]
    }
   ],
   "source": [
    "s1 = \"200\"\n",
    "print(type(s1))\n",
    "b = int(s1)\n",
    "print(type(b))\n",
    "f=2.5\n",
    "a=int(f)\n",
    "print(type(a))\n",
    "print(a)"
   ]
  },
  {
   "cell_type": "code",
   "execution_count": 19,
   "metadata": {},
   "outputs": [
    {
     "name": "stdout",
     "output_type": "stream",
     "text": [
      "5\n"
     ]
    }
   ],
   "source": [
    "# A number is given 23456\n",
    "# Digit count\n",
    "s = 23456\n",
    "print(len(str(s)))"
   ]
  },
  {
   "cell_type": "markdown",
   "metadata": {},
   "source": [
    "# operators\n",
    "## 1. arthemetic operators--------->+,-,*, / ,//,%,**\n",
    "## 2. logical operators------------>and ,or , not\n",
    "## 3. relational operators---------> <,>,<=,>=,==,!=\n",
    "## 4. membership operators---------> in, not in"
   ]
  },
  {
   "cell_type": "code",
   "execution_count": 20,
   "metadata": {},
   "outputs": [
    {
     "name": "stdout",
     "output_type": "stream",
     "text": [
      "25\n",
      "5\n",
      "150\n",
      "1.5\n",
      "1\n",
      "5\n",
      "576650390625\n"
     ]
    }
   ],
   "source": [
    "#Arthemetic operators\n",
    "a =15\n",
    "b =10\n",
    "print(a+b)\n",
    "print(a-b)\n",
    "print(a*b)\n",
    "print(a/b)\n",
    "print(a//b)\n",
    "print(a%b)\n",
    "print(a**b)"
   ]
  },
  {
   "cell_type": "code",
   "execution_count": 21,
   "metadata": {},
   "outputs": [
    {
     "name": "stdout",
     "output_type": "stream",
     "text": [
      "False\n",
      "True\n",
      "False\n",
      "True\n"
     ]
    }
   ],
   "source": [
    "# relational operators\n",
    "x = 20\n",
    "y = 15\n",
    "print(x==y)\n",
    "print(x!=y)\n",
    "print(x<y)\n",
    "print(x>y)"
   ]
  },
  {
   "cell_type": "code",
   "execution_count": 22,
   "metadata": {},
   "outputs": [
    {
     "name": "stdout",
     "output_type": "stream",
     "text": [
      "True\n",
      "True\n",
      "False\n"
     ]
    }
   ],
   "source": [
    "# logical operators\n",
    "print(x>=10 and x<=20)\n",
    "print(x>=5 or x<=20)\n",
    "print(not x)"
   ]
  },
  {
   "cell_type": "code",
   "execution_count": 26,
   "metadata": {},
   "outputs": [
    {
     "name": "stdout",
     "output_type": "stream",
     "text": [
      "True\n",
      "False\n"
     ]
    }
   ],
   "source": [
    "# membership operators\n",
    "str1 =\"abc\"\n",
    "print('a' in str1)\n",
    "print('b' not in str1)"
   ]
  },
  {
   "cell_type": "markdown",
   "metadata": {},
   "source": [
    "# conditional statement:\n",
    " - 1.if\n",
    " - 2.else\n",
    " - 3.elif \n",
    "  ## syntax\n",
    "   - elif condition:\n",
    "  ## statements\n",
    "   - else:\n",
    "  ## statement\n",
    "   - if condition:\n",
    "  ## statement    \n",
    "   "
   ]
  },
  {
   "cell_type": "code",
   "execution_count": 29,
   "metadata": {},
   "outputs": [
    {
     "name": "stdout",
     "output_type": "stream",
     "text": [
      "enter the number:5\n",
      "odd\n"
     ]
    }
   ],
   "source": [
    "# to check given  number is even or odd\n",
    "n = int(input(\"enter the number:\"))\n",
    "if n%2==0:\n",
    "    print(\"even\")\n",
    "else:\n",
    "    print(\"odd\")"
   ]
  },
  {
   "cell_type": "code",
   "execution_count": 31,
   "metadata": {},
   "outputs": [
    {
     "name": "stdout",
     "output_type": "stream",
     "text": [
      "enter the number:9\n",
      "no\n"
     ]
    }
   ],
   "source": [
    "# to check the given number is perfectly multiple of 3 and 5\n",
    "n=int(input(\"enter the number:\"))\n",
    "if n%3==0 and n%5==0:\n",
    " print(\"yes\")\n",
    "else:\n",
    "    print(\"no\")"
   ]
  },
  {
   "cell_type": "code",
   "execution_count": 1,
   "metadata": {},
   "outputs": [
    {
     "name": "stdout",
     "output_type": "stream",
     "text": [
      "enter the number:5\n",
      "positive\n"
     ]
    }
   ],
   "source": [
    "# to check the given number is positive or negative or zero\n",
    "n=int(input(\"enter the number:\"))\n",
    "if n>0:\n",
    "    print(\"positive\")\n",
    "if n<0:\n",
    "    print(\"negative\")\n",
    "if n==0:\n",
    "    print(\"zero\")"
   ]
  },
  {
   "cell_type": "code",
   "execution_count": 3,
   "metadata": {},
   "outputs": [
    {
     "name": "stdout",
     "output_type": "stream",
     "text": [
      "enter the number:2020\n",
      "leap year\n"
     ]
    }
   ],
   "source": [
    "# check the given year is leap year or not\n",
    "year=int(input(\"enter the number:\"))\n",
    "if year%4==0:\n",
    "    print(\"leap year\")\n",
    "else:\n",
    "        print(\"not a leap year\")"
   ]
  },
  {
   "cell_type": "code",
   "execution_count": 4,
   "metadata": {},
   "outputs": [
    {
     "name": "stdout",
     "output_type": "stream",
     "text": [
      "eneter the number:20\n",
      "yes\n"
     ]
    }
   ],
   "source": [
    "# is a person is eligible for vote or not\n",
    "age=int(input(\"eneter the number:\"))\n",
    "if age<18:\n",
    "    print(\"no\")\n",
    "else:\n",
    "    print(\"yes\")"
   ]
  }
 ],
 "metadata": {
  "kernelspec": {
   "display_name": "Python 3",
   "language": "python",
   "name": "python3"
  },
  "language_info": {
   "codemirror_mode": {
    "name": "ipython",
    "version": 3
   },
   "file_extension": ".py",
   "mimetype": "text/x-python",
   "name": "python",
   "nbconvert_exporter": "python",
   "pygments_lexer": "ipython3",
   "version": "3.7.4"
  }
 },
 "nbformat": 4,
 "nbformat_minor": 2
}
